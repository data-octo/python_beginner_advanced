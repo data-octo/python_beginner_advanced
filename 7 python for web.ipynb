{
 "nbformat": 4,
 "nbformat_minor": 2,
 "metadata": {
  "language_info": {
   "name": "python",
   "codemirror_mode": {
    "name": "ipython",
    "version": 3
   },
   "version": "3.7.4"
  },
  "orig_nbformat": 2,
  "file_extension": ".py",
  "mimetype": "text/x-python",
  "name": "python",
  "npconvert_exporter": "python",
  "pygments_lexer": "ipython3",
  "version": 3
 },
 "cells": [
  {
   "cell_type": "markdown",
   "execution_count": null,
   "metadata": {},
   "outputs": [],
   "source": [
    "# Python for Web\n",
    "\n",
    "Question: How do we build web applications with Python?\n",
    "\n",
    "Answer: Use Flask library."
   ]
  },
  {
   "cell_type": "markdown",
   "execution_count": null,
   "metadata": {},
   "outputs": [],
   "source": [
    "## Flask Introduction\n",
    "\n",
    "Flask is micro-framework which has very little dependency on external libraries. It is a very light framework and gives us freedom to do whatever we want.\n",
    "\n",
    "- easy to use.\n",
    "- built in development server and debugger\n",
    "- integrated unit testing support\n",
    "- RESTful request dispatching\n",
    "- uses Jinja2 templating\n",
    "- support for secure cookies (client side sessions)\n",
    "- 100% WSGI 1.0 compliant\n",
    "- Unicode based\n",
    "- extensively documented\n",
    "\n",
    "Install Flask using the command below:\n",
    "```\n",
    "$ pip install Flask\n",
    "```\n"
   ]
  },
  {
   "cell_type": "markdown",
   "execution_count": null,
   "metadata": {},
   "outputs": [],
   "source": [
    "## Web Application Example - Hello World\n",
    "\n",
    "Create a file called hello.py\n",
    "```\n",
    "from flask import Flask\n",
    "app = Flask(__name__)\n",
    "\n",
    "@app.route(\"/\")\n",
    "def hello():\n",
    "    return \"Hello World!\"\n",
    "\n",
    "if __name__ == \"__main__\":\n",
    "    app.run()\n",
    "```\n",
    "\n",
    "Finally run the web app using this command:\n",
    "```\n",
    "$ python hello.py\n",
    "* Running on http://localhost:5000/\n",
    "```"
   ]
  },
  {
   "cell_type": "code",
   "execution_count": 3,
   "metadata": {},
   "outputs": [
    {
     "name": "stdout",
     "output_type": "stream",
     "text": "* Serving Flask app \"__main__\" (lazy loading)\n * Environment: production\n   WARNING: This is a development server. Do not use it in a production deployment.\n   Use a production WSGI server instead.\n * Debug mode: off\n * Running on http://127.0.0.1:5000/ (Press CTRL+C to quit)\n127.0.0.1 - - [26/Dec/2019 22:26:18] \"\u001b[37mGET / HTTP/1.1\u001b[0m\" 200 -\n127.0.0.1 - - [26/Dec/2019 22:26:18] \"\u001b[33mGET /favicon.ico HTTP/1.1\u001b[0m\" 404 -\n"
    }
   ],
   "source": [
    "# Hello World web app with Flask\n",
    "\n",
    "from flask import Flask\n",
    "app = Flask(__name__)\n",
    "\n",
    "@app.route(\"/\")\n",
    "def hello():\n",
    "    return \"Hello World!\"\n",
    "\n",
    "if __name__ == \"__main__\":\n",
    "    app.run()"
   ]
  },
  {
   "cell_type": "code",
   "execution_count": null,
   "metadata": {},
   "outputs": [],
   "source": []
  }
 ]
}